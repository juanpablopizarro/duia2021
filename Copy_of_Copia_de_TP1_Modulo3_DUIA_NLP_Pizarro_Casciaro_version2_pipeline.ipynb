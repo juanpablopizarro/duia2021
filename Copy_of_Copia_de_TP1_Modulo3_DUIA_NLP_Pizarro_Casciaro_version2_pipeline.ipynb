{
  "nbformat": 4,
  "nbformat_minor": 0,
  "metadata": {
    "colab": {
      "name": "Copy of Copia de TP1_Modulo3_DUIA_NLP_Pizarro_Casciaro_version2_pipeline.ipynb",
      "provenance": [],
      "collapsed_sections": [],
      "include_colab_link": true
    },
    "kernelspec": {
      "display_name": "Python 3",
      "name": "python3"
    },
    "language_info": {
      "name": "python"
    },
    "widgets": {
      "application/vnd.jupyter.widget-state+json": {
        "c411e95f17a94ddd8024cbcf03a6b9e3": {
          "model_module": "@jupyter-widgets/controls",
          "model_name": "HBoxModel",
          "state": {
            "_view_name": "HBoxView",
            "_dom_classes": [],
            "_model_name": "HBoxModel",
            "_view_module": "@jupyter-widgets/controls",
            "_model_module_version": "1.5.0",
            "_view_count": null,
            "_view_module_version": "1.5.0",
            "box_style": "",
            "layout": "IPY_MODEL_0a6dfaa4f57f40d3b834326e729722fd",
            "_model_module": "@jupyter-widgets/controls",
            "children": [
              "IPY_MODEL_7592ec72956d45ea968d466a513bca84",
              "IPY_MODEL_5c8c5faf06dd4cde904664970ddb338d"
            ]
          }
        },
        "0a6dfaa4f57f40d3b834326e729722fd": {
          "model_module": "@jupyter-widgets/base",
          "model_name": "LayoutModel",
          "state": {
            "_view_name": "LayoutView",
            "grid_template_rows": null,
            "right": null,
            "justify_content": null,
            "_view_module": "@jupyter-widgets/base",
            "overflow": null,
            "_model_module_version": "1.2.0",
            "_view_count": null,
            "flex_flow": null,
            "width": null,
            "min_width": null,
            "border": null,
            "align_items": null,
            "bottom": null,
            "_model_module": "@jupyter-widgets/base",
            "top": null,
            "grid_column": null,
            "overflow_y": null,
            "overflow_x": null,
            "grid_auto_flow": null,
            "grid_area": null,
            "grid_template_columns": null,
            "flex": null,
            "_model_name": "LayoutModel",
            "justify_items": null,
            "grid_row": null,
            "max_height": null,
            "align_content": null,
            "visibility": null,
            "align_self": null,
            "height": null,
            "min_height": null,
            "padding": null,
            "grid_auto_rows": null,
            "grid_gap": null,
            "max_width": null,
            "order": null,
            "_view_module_version": "1.2.0",
            "grid_template_areas": null,
            "object_position": null,
            "object_fit": null,
            "grid_auto_columns": null,
            "margin": null,
            "display": null,
            "left": null
          }
        },
        "7592ec72956d45ea968d466a513bca84": {
          "model_module": "@jupyter-widgets/controls",
          "model_name": "FloatProgressModel",
          "state": {
            "_view_name": "ProgressView",
            "style": "IPY_MODEL_1b16b8dcf304497892c332b4d560ffce",
            "_dom_classes": [],
            "description": "100%",
            "_model_name": "FloatProgressModel",
            "bar_style": "success",
            "max": 17500,
            "_view_module": "@jupyter-widgets/controls",
            "_model_module_version": "1.5.0",
            "value": 17500,
            "_view_count": null,
            "_view_module_version": "1.5.0",
            "orientation": "horizontal",
            "min": 0,
            "description_tooltip": null,
            "_model_module": "@jupyter-widgets/controls",
            "layout": "IPY_MODEL_32df499daa92417fbe3fbad6a814f497"
          }
        },
        "5c8c5faf06dd4cde904664970ddb338d": {
          "model_module": "@jupyter-widgets/controls",
          "model_name": "HTMLModel",
          "state": {
            "_view_name": "HTMLView",
            "style": "IPY_MODEL_16e383b075d3482b988fd187a6942db0",
            "_dom_classes": [],
            "description": "",
            "_model_name": "HTMLModel",
            "placeholder": "​",
            "_view_module": "@jupyter-widgets/controls",
            "_model_module_version": "1.5.0",
            "value": " 17500/17500 [00:01&lt;00:00, 13629.88it/s]",
            "_view_count": null,
            "_view_module_version": "1.5.0",
            "description_tooltip": null,
            "_model_module": "@jupyter-widgets/controls",
            "layout": "IPY_MODEL_82e557fa2dbe42f89cfde6018795421b"
          }
        },
        "1b16b8dcf304497892c332b4d560ffce": {
          "model_module": "@jupyter-widgets/controls",
          "model_name": "ProgressStyleModel",
          "state": {
            "_view_name": "StyleView",
            "_model_name": "ProgressStyleModel",
            "description_width": "initial",
            "_view_module": "@jupyter-widgets/base",
            "_model_module_version": "1.5.0",
            "_view_count": null,
            "_view_module_version": "1.2.0",
            "bar_color": null,
            "_model_module": "@jupyter-widgets/controls"
          }
        },
        "32df499daa92417fbe3fbad6a814f497": {
          "model_module": "@jupyter-widgets/base",
          "model_name": "LayoutModel",
          "state": {
            "_view_name": "LayoutView",
            "grid_template_rows": null,
            "right": null,
            "justify_content": null,
            "_view_module": "@jupyter-widgets/base",
            "overflow": null,
            "_model_module_version": "1.2.0",
            "_view_count": null,
            "flex_flow": null,
            "width": null,
            "min_width": null,
            "border": null,
            "align_items": null,
            "bottom": null,
            "_model_module": "@jupyter-widgets/base",
            "top": null,
            "grid_column": null,
            "overflow_y": null,
            "overflow_x": null,
            "grid_auto_flow": null,
            "grid_area": null,
            "grid_template_columns": null,
            "flex": null,
            "_model_name": "LayoutModel",
            "justify_items": null,
            "grid_row": null,
            "max_height": null,
            "align_content": null,
            "visibility": null,
            "align_self": null,
            "height": null,
            "min_height": null,
            "padding": null,
            "grid_auto_rows": null,
            "grid_gap": null,
            "max_width": null,
            "order": null,
            "_view_module_version": "1.2.0",
            "grid_template_areas": null,
            "object_position": null,
            "object_fit": null,
            "grid_auto_columns": null,
            "margin": null,
            "display": null,
            "left": null
          }
        },
        "16e383b075d3482b988fd187a6942db0": {
          "model_module": "@jupyter-widgets/controls",
          "model_name": "DescriptionStyleModel",
          "state": {
            "_view_name": "StyleView",
            "_model_name": "DescriptionStyleModel",
            "description_width": "",
            "_view_module": "@jupyter-widgets/base",
            "_model_module_version": "1.5.0",
            "_view_count": null,
            "_view_module_version": "1.2.0",
            "_model_module": "@jupyter-widgets/controls"
          }
        },
        "82e557fa2dbe42f89cfde6018795421b": {
          "model_module": "@jupyter-widgets/base",
          "model_name": "LayoutModel",
          "state": {
            "_view_name": "LayoutView",
            "grid_template_rows": null,
            "right": null,
            "justify_content": null,
            "_view_module": "@jupyter-widgets/base",
            "overflow": null,
            "_model_module_version": "1.2.0",
            "_view_count": null,
            "flex_flow": null,
            "width": null,
            "min_width": null,
            "border": null,
            "align_items": null,
            "bottom": null,
            "_model_module": "@jupyter-widgets/base",
            "top": null,
            "grid_column": null,
            "overflow_y": null,
            "overflow_x": null,
            "grid_auto_flow": null,
            "grid_area": null,
            "grid_template_columns": null,
            "flex": null,
            "_model_name": "LayoutModel",
            "justify_items": null,
            "grid_row": null,
            "max_height": null,
            "align_content": null,
            "visibility": null,
            "align_self": null,
            "height": null,
            "min_height": null,
            "padding": null,
            "grid_auto_rows": null,
            "grid_gap": null,
            "max_width": null,
            "order": null,
            "_view_module_version": "1.2.0",
            "grid_template_areas": null,
            "object_position": null,
            "object_fit": null,
            "grid_auto_columns": null,
            "margin": null,
            "display": null,
            "left": null
          }
        },
        "6c06ce9b17ba48f489c60187230f7a2a": {
          "model_module": "@jupyter-widgets/controls",
          "model_name": "HBoxModel",
          "state": {
            "_view_name": "HBoxView",
            "_dom_classes": [],
            "_model_name": "HBoxModel",
            "_view_module": "@jupyter-widgets/controls",
            "_model_module_version": "1.5.0",
            "_view_count": null,
            "_view_module_version": "1.5.0",
            "box_style": "",
            "layout": "IPY_MODEL_0cdba2c9ff8e4b1a8e31d4b4e7f0ff7f",
            "_model_module": "@jupyter-widgets/controls",
            "children": [
              "IPY_MODEL_a10eb026320448a1be25dccfe22039a5",
              "IPY_MODEL_195b2a59e063480190feae503b2cbbf1"
            ]
          }
        },
        "0cdba2c9ff8e4b1a8e31d4b4e7f0ff7f": {
          "model_module": "@jupyter-widgets/base",
          "model_name": "LayoutModel",
          "state": {
            "_view_name": "LayoutView",
            "grid_template_rows": null,
            "right": null,
            "justify_content": null,
            "_view_module": "@jupyter-widgets/base",
            "overflow": null,
            "_model_module_version": "1.2.0",
            "_view_count": null,
            "flex_flow": null,
            "width": null,
            "min_width": null,
            "border": null,
            "align_items": null,
            "bottom": null,
            "_model_module": "@jupyter-widgets/base",
            "top": null,
            "grid_column": null,
            "overflow_y": null,
            "overflow_x": null,
            "grid_auto_flow": null,
            "grid_area": null,
            "grid_template_columns": null,
            "flex": null,
            "_model_name": "LayoutModel",
            "justify_items": null,
            "grid_row": null,
            "max_height": null,
            "align_content": null,
            "visibility": null,
            "align_self": null,
            "height": null,
            "min_height": null,
            "padding": null,
            "grid_auto_rows": null,
            "grid_gap": null,
            "max_width": null,
            "order": null,
            "_view_module_version": "1.2.0",
            "grid_template_areas": null,
            "object_position": null,
            "object_fit": null,
            "grid_auto_columns": null,
            "margin": null,
            "display": null,
            "left": null
          }
        },
        "a10eb026320448a1be25dccfe22039a5": {
          "model_module": "@jupyter-widgets/controls",
          "model_name": "FloatProgressModel",
          "state": {
            "_view_name": "ProgressView",
            "style": "IPY_MODEL_0d485537e56446bba201d61e953465c1",
            "_dom_classes": [],
            "description": "100%",
            "_model_name": "FloatProgressModel",
            "bar_style": "success",
            "max": 17500,
            "_view_module": "@jupyter-widgets/controls",
            "_model_module_version": "1.5.0",
            "value": 17500,
            "_view_count": null,
            "_view_module_version": "1.5.0",
            "orientation": "horizontal",
            "min": 0,
            "description_tooltip": null,
            "_model_module": "@jupyter-widgets/controls",
            "layout": "IPY_MODEL_9aa28bbdcbd349ff9727d051e161abb7"
          }
        },
        "195b2a59e063480190feae503b2cbbf1": {
          "model_module": "@jupyter-widgets/controls",
          "model_name": "HTMLModel",
          "state": {
            "_view_name": "HTMLView",
            "style": "IPY_MODEL_bd23fa50f4b34f9f89d95502083d7618",
            "_dom_classes": [],
            "description": "",
            "_model_name": "HTMLModel",
            "placeholder": "​",
            "_view_module": "@jupyter-widgets/controls",
            "_model_module_version": "1.5.0",
            "value": " 17500/17500 [00:00&lt;00:00, 38395.19it/s]",
            "_view_count": null,
            "_view_module_version": "1.5.0",
            "description_tooltip": null,
            "_model_module": "@jupyter-widgets/controls",
            "layout": "IPY_MODEL_bcdb080d5c4a4532b4c979e1715eebe5"
          }
        },
        "0d485537e56446bba201d61e953465c1": {
          "model_module": "@jupyter-widgets/controls",
          "model_name": "ProgressStyleModel",
          "state": {
            "_view_name": "StyleView",
            "_model_name": "ProgressStyleModel",
            "description_width": "initial",
            "_view_module": "@jupyter-widgets/base",
            "_model_module_version": "1.5.0",
            "_view_count": null,
            "_view_module_version": "1.2.0",
            "bar_color": null,
            "_model_module": "@jupyter-widgets/controls"
          }
        },
        "9aa28bbdcbd349ff9727d051e161abb7": {
          "model_module": "@jupyter-widgets/base",
          "model_name": "LayoutModel",
          "state": {
            "_view_name": "LayoutView",
            "grid_template_rows": null,
            "right": null,
            "justify_content": null,
            "_view_module": "@jupyter-widgets/base",
            "overflow": null,
            "_model_module_version": "1.2.0",
            "_view_count": null,
            "flex_flow": null,
            "width": null,
            "min_width": null,
            "border": null,
            "align_items": null,
            "bottom": null,
            "_model_module": "@jupyter-widgets/base",
            "top": null,
            "grid_column": null,
            "overflow_y": null,
            "overflow_x": null,
            "grid_auto_flow": null,
            "grid_area": null,
            "grid_template_columns": null,
            "flex": null,
            "_model_name": "LayoutModel",
            "justify_items": null,
            "grid_row": null,
            "max_height": null,
            "align_content": null,
            "visibility": null,
            "align_self": null,
            "height": null,
            "min_height": null,
            "padding": null,
            "grid_auto_rows": null,
            "grid_gap": null,
            "max_width": null,
            "order": null,
            "_view_module_version": "1.2.0",
            "grid_template_areas": null,
            "object_position": null,
            "object_fit": null,
            "grid_auto_columns": null,
            "margin": null,
            "display": null,
            "left": null
          }
        },
        "bd23fa50f4b34f9f89d95502083d7618": {
          "model_module": "@jupyter-widgets/controls",
          "model_name": "DescriptionStyleModel",
          "state": {
            "_view_name": "StyleView",
            "_model_name": "DescriptionStyleModel",
            "description_width": "",
            "_view_module": "@jupyter-widgets/base",
            "_model_module_version": "1.5.0",
            "_view_count": null,
            "_view_module_version": "1.2.0",
            "_model_module": "@jupyter-widgets/controls"
          }
        },
        "bcdb080d5c4a4532b4c979e1715eebe5": {
          "model_module": "@jupyter-widgets/base",
          "model_name": "LayoutModel",
          "state": {
            "_view_name": "LayoutView",
            "grid_template_rows": null,
            "right": null,
            "justify_content": null,
            "_view_module": "@jupyter-widgets/base",
            "overflow": null,
            "_model_module_version": "1.2.0",
            "_view_count": null,
            "flex_flow": null,
            "width": null,
            "min_width": null,
            "border": null,
            "align_items": null,
            "bottom": null,
            "_model_module": "@jupyter-widgets/base",
            "top": null,
            "grid_column": null,
            "overflow_y": null,
            "overflow_x": null,
            "grid_auto_flow": null,
            "grid_area": null,
            "grid_template_columns": null,
            "flex": null,
            "_model_name": "LayoutModel",
            "justify_items": null,
            "grid_row": null,
            "max_height": null,
            "align_content": null,
            "visibility": null,
            "align_self": null,
            "height": null,
            "min_height": null,
            "padding": null,
            "grid_auto_rows": null,
            "grid_gap": null,
            "max_width": null,
            "order": null,
            "_view_module_version": "1.2.0",
            "grid_template_areas": null,
            "object_position": null,
            "object_fit": null,
            "grid_auto_columns": null,
            "margin": null,
            "display": null,
            "left": null
          }
        },
        "6fe51eb7b80b473ebde4e801e67b010e": {
          "model_module": "@jupyter-widgets/controls",
          "model_name": "HBoxModel",
          "state": {
            "_view_name": "HBoxView",
            "_dom_classes": [],
            "_model_name": "HBoxModel",
            "_view_module": "@jupyter-widgets/controls",
            "_model_module_version": "1.5.0",
            "_view_count": null,
            "_view_module_version": "1.5.0",
            "box_style": "",
            "layout": "IPY_MODEL_ebbdbca946fe4d25b98800fbbf7c0afa",
            "_model_module": "@jupyter-widgets/controls",
            "children": [
              "IPY_MODEL_5a86cc2a567949ca9a043018625f9b13",
              "IPY_MODEL_fac07e9ae2d2436997dfc41bb5933085"
            ]
          }
        },
        "ebbdbca946fe4d25b98800fbbf7c0afa": {
          "model_module": "@jupyter-widgets/base",
          "model_name": "LayoutModel",
          "state": {
            "_view_name": "LayoutView",
            "grid_template_rows": null,
            "right": null,
            "justify_content": null,
            "_view_module": "@jupyter-widgets/base",
            "overflow": null,
            "_model_module_version": "1.2.0",
            "_view_count": null,
            "flex_flow": null,
            "width": null,
            "min_width": null,
            "border": null,
            "align_items": null,
            "bottom": null,
            "_model_module": "@jupyter-widgets/base",
            "top": null,
            "grid_column": null,
            "overflow_y": null,
            "overflow_x": null,
            "grid_auto_flow": null,
            "grid_area": null,
            "grid_template_columns": null,
            "flex": null,
            "_model_name": "LayoutModel",
            "justify_items": null,
            "grid_row": null,
            "max_height": null,
            "align_content": null,
            "visibility": null,
            "align_self": null,
            "height": null,
            "min_height": null,
            "padding": null,
            "grid_auto_rows": null,
            "grid_gap": null,
            "max_width": null,
            "order": null,
            "_view_module_version": "1.2.0",
            "grid_template_areas": null,
            "object_position": null,
            "object_fit": null,
            "grid_auto_columns": null,
            "margin": null,
            "display": null,
            "left": null
          }
        },
        "5a86cc2a567949ca9a043018625f9b13": {
          "model_module": "@jupyter-widgets/controls",
          "model_name": "FloatProgressModel",
          "state": {
            "_view_name": "ProgressView",
            "style": "IPY_MODEL_bad517564c9d4ad6a18feb7c6f8ef83d",
            "_dom_classes": [],
            "description": "100%",
            "_model_name": "FloatProgressModel",
            "bar_style": "success",
            "max": 17500,
            "_view_module": "@jupyter-widgets/controls",
            "_model_module_version": "1.5.0",
            "value": 17500,
            "_view_count": null,
            "_view_module_version": "1.5.0",
            "orientation": "horizontal",
            "min": 0,
            "description_tooltip": null,
            "_model_module": "@jupyter-widgets/controls",
            "layout": "IPY_MODEL_4e29d027a3e547e4ac8dcea97ed32168"
          }
        },
        "fac07e9ae2d2436997dfc41bb5933085": {
          "model_module": "@jupyter-widgets/controls",
          "model_name": "HTMLModel",
          "state": {
            "_view_name": "HTMLView",
            "style": "IPY_MODEL_6bb48faa69ae45bcae5d12710afc04b5",
            "_dom_classes": [],
            "description": "",
            "_model_name": "HTMLModel",
            "placeholder": "​",
            "_view_module": "@jupyter-widgets/controls",
            "_model_module_version": "1.5.0",
            "value": " 17500/17500 [07:05&lt;00:00, 41.12it/s]",
            "_view_count": null,
            "_view_module_version": "1.5.0",
            "description_tooltip": null,
            "_model_module": "@jupyter-widgets/controls",
            "layout": "IPY_MODEL_e9a7babd4d274856b86ad50f124c74de"
          }
        },
        "bad517564c9d4ad6a18feb7c6f8ef83d": {
          "model_module": "@jupyter-widgets/controls",
          "model_name": "ProgressStyleModel",
          "state": {
            "_view_name": "StyleView",
            "_model_name": "ProgressStyleModel",
            "description_width": "initial",
            "_view_module": "@jupyter-widgets/base",
            "_model_module_version": "1.5.0",
            "_view_count": null,
            "_view_module_version": "1.2.0",
            "bar_color": null,
            "_model_module": "@jupyter-widgets/controls"
          }
        },
        "4e29d027a3e547e4ac8dcea97ed32168": {
          "model_module": "@jupyter-widgets/base",
          "model_name": "LayoutModel",
          "state": {
            "_view_name": "LayoutView",
            "grid_template_rows": null,
            "right": null,
            "justify_content": null,
            "_view_module": "@jupyter-widgets/base",
            "overflow": null,
            "_model_module_version": "1.2.0",
            "_view_count": null,
            "flex_flow": null,
            "width": null,
            "min_width": null,
            "border": null,
            "align_items": null,
            "bottom": null,
            "_model_module": "@jupyter-widgets/base",
            "top": null,
            "grid_column": null,
            "overflow_y": null,
            "overflow_x": null,
            "grid_auto_flow": null,
            "grid_area": null,
            "grid_template_columns": null,
            "flex": null,
            "_model_name": "LayoutModel",
            "justify_items": null,
            "grid_row": null,
            "max_height": null,
            "align_content": null,
            "visibility": null,
            "align_self": null,
            "height": null,
            "min_height": null,
            "padding": null,
            "grid_auto_rows": null,
            "grid_gap": null,
            "max_width": null,
            "order": null,
            "_view_module_version": "1.2.0",
            "grid_template_areas": null,
            "object_position": null,
            "object_fit": null,
            "grid_auto_columns": null,
            "margin": null,
            "display": null,
            "left": null
          }
        },
        "6bb48faa69ae45bcae5d12710afc04b5": {
          "model_module": "@jupyter-widgets/controls",
          "model_name": "DescriptionStyleModel",
          "state": {
            "_view_name": "StyleView",
            "_model_name": "DescriptionStyleModel",
            "description_width": "",
            "_view_module": "@jupyter-widgets/base",
            "_model_module_version": "1.5.0",
            "_view_count": null,
            "_view_module_version": "1.2.0",
            "_model_module": "@jupyter-widgets/controls"
          }
        },
        "e9a7babd4d274856b86ad50f124c74de": {
          "model_module": "@jupyter-widgets/base",
          "model_name": "LayoutModel",
          "state": {
            "_view_name": "LayoutView",
            "grid_template_rows": null,
            "right": null,
            "justify_content": null,
            "_view_module": "@jupyter-widgets/base",
            "overflow": null,
            "_model_module_version": "1.2.0",
            "_view_count": null,
            "flex_flow": null,
            "width": null,
            "min_width": null,
            "border": null,
            "align_items": null,
            "bottom": null,
            "_model_module": "@jupyter-widgets/base",
            "top": null,
            "grid_column": null,
            "overflow_y": null,
            "overflow_x": null,
            "grid_auto_flow": null,
            "grid_area": null,
            "grid_template_columns": null,
            "flex": null,
            "_model_name": "LayoutModel",
            "justify_items": null,
            "grid_row": null,
            "max_height": null,
            "align_content": null,
            "visibility": null,
            "align_self": null,
            "height": null,
            "min_height": null,
            "padding": null,
            "grid_auto_rows": null,
            "grid_gap": null,
            "max_width": null,
            "order": null,
            "_view_module_version": "1.2.0",
            "grid_template_areas": null,
            "object_position": null,
            "object_fit": null,
            "grid_auto_columns": null,
            "margin": null,
            "display": null,
            "left": null
          }
        },
        "6dd862e79a8f4e24bdc112013857b09c": {
          "model_module": "@jupyter-widgets/controls",
          "model_name": "HBoxModel",
          "state": {
            "_view_name": "HBoxView",
            "_dom_classes": [],
            "_model_name": "HBoxModel",
            "_view_module": "@jupyter-widgets/controls",
            "_model_module_version": "1.5.0",
            "_view_count": null,
            "_view_module_version": "1.5.0",
            "box_style": "",
            "layout": "IPY_MODEL_75c18cf07c894171b27e8b165f4cceef",
            "_model_module": "@jupyter-widgets/controls",
            "children": [
              "IPY_MODEL_14adfc80ff384c2a8cfdd75f2f405016",
              "IPY_MODEL_2788e31fa8aa4cdc9725622f7be97d46"
            ]
          }
        },
        "75c18cf07c894171b27e8b165f4cceef": {
          "model_module": "@jupyter-widgets/base",
          "model_name": "LayoutModel",
          "state": {
            "_view_name": "LayoutView",
            "grid_template_rows": null,
            "right": null,
            "justify_content": null,
            "_view_module": "@jupyter-widgets/base",
            "overflow": null,
            "_model_module_version": "1.2.0",
            "_view_count": null,
            "flex_flow": null,
            "width": null,
            "min_width": null,
            "border": null,
            "align_items": null,
            "bottom": null,
            "_model_module": "@jupyter-widgets/base",
            "top": null,
            "grid_column": null,
            "overflow_y": null,
            "overflow_x": null,
            "grid_auto_flow": null,
            "grid_area": null,
            "grid_template_columns": null,
            "flex": null,
            "_model_name": "LayoutModel",
            "justify_items": null,
            "grid_row": null,
            "max_height": null,
            "align_content": null,
            "visibility": null,
            "align_self": null,
            "height": null,
            "min_height": null,
            "padding": null,
            "grid_auto_rows": null,
            "grid_gap": null,
            "max_width": null,
            "order": null,
            "_view_module_version": "1.2.0",
            "grid_template_areas": null,
            "object_position": null,
            "object_fit": null,
            "grid_auto_columns": null,
            "margin": null,
            "display": null,
            "left": null
          }
        },
        "14adfc80ff384c2a8cfdd75f2f405016": {
          "model_module": "@jupyter-widgets/controls",
          "model_name": "FloatProgressModel",
          "state": {
            "_view_name": "ProgressView",
            "style": "IPY_MODEL_23b5a57df7b640f7b706aac3f399bf81",
            "_dom_classes": [],
            "description": "100%",
            "_model_name": "FloatProgressModel",
            "bar_style": "success",
            "max": 17500,
            "_view_module": "@jupyter-widgets/controls",
            "_model_module_version": "1.5.0",
            "value": 17500,
            "_view_count": null,
            "_view_module_version": "1.5.0",
            "orientation": "horizontal",
            "min": 0,
            "description_tooltip": null,
            "_model_module": "@jupyter-widgets/controls",
            "layout": "IPY_MODEL_5b6c1da457c540bfb5021aabad14a543"
          }
        },
        "2788e31fa8aa4cdc9725622f7be97d46": {
          "model_module": "@jupyter-widgets/controls",
          "model_name": "HTMLModel",
          "state": {
            "_view_name": "HTMLView",
            "style": "IPY_MODEL_98c2af92149d4a8681a7a572abe9a816",
            "_dom_classes": [],
            "description": "",
            "_model_name": "HTMLModel",
            "placeholder": "​",
            "_view_module": "@jupyter-widgets/controls",
            "_model_module_version": "1.5.0",
            "value": " 17500/17500 [03:41&lt;00:00, 79.03it/s]",
            "_view_count": null,
            "_view_module_version": "1.5.0",
            "description_tooltip": null,
            "_model_module": "@jupyter-widgets/controls",
            "layout": "IPY_MODEL_fef0de8114e44427a0428d59a12ec9de"
          }
        },
        "23b5a57df7b640f7b706aac3f399bf81": {
          "model_module": "@jupyter-widgets/controls",
          "model_name": "ProgressStyleModel",
          "state": {
            "_view_name": "StyleView",
            "_model_name": "ProgressStyleModel",
            "description_width": "initial",
            "_view_module": "@jupyter-widgets/base",
            "_model_module_version": "1.5.0",
            "_view_count": null,
            "_view_module_version": "1.2.0",
            "bar_color": null,
            "_model_module": "@jupyter-widgets/controls"
          }
        },
        "5b6c1da457c540bfb5021aabad14a543": {
          "model_module": "@jupyter-widgets/base",
          "model_name": "LayoutModel",
          "state": {
            "_view_name": "LayoutView",
            "grid_template_rows": null,
            "right": null,
            "justify_content": null,
            "_view_module": "@jupyter-widgets/base",
            "overflow": null,
            "_model_module_version": "1.2.0",
            "_view_count": null,
            "flex_flow": null,
            "width": null,
            "min_width": null,
            "border": null,
            "align_items": null,
            "bottom": null,
            "_model_module": "@jupyter-widgets/base",
            "top": null,
            "grid_column": null,
            "overflow_y": null,
            "overflow_x": null,
            "grid_auto_flow": null,
            "grid_area": null,
            "grid_template_columns": null,
            "flex": null,
            "_model_name": "LayoutModel",
            "justify_items": null,
            "grid_row": null,
            "max_height": null,
            "align_content": null,
            "visibility": null,
            "align_self": null,
            "height": null,
            "min_height": null,
            "padding": null,
            "grid_auto_rows": null,
            "grid_gap": null,
            "max_width": null,
            "order": null,
            "_view_module_version": "1.2.0",
            "grid_template_areas": null,
            "object_position": null,
            "object_fit": null,
            "grid_auto_columns": null,
            "margin": null,
            "display": null,
            "left": null
          }
        },
        "98c2af92149d4a8681a7a572abe9a816": {
          "model_module": "@jupyter-widgets/controls",
          "model_name": "DescriptionStyleModel",
          "state": {
            "_view_name": "StyleView",
            "_model_name": "DescriptionStyleModel",
            "description_width": "",
            "_view_module": "@jupyter-widgets/base",
            "_model_module_version": "1.5.0",
            "_view_count": null,
            "_view_module_version": "1.2.0",
            "_model_module": "@jupyter-widgets/controls"
          }
        },
        "fef0de8114e44427a0428d59a12ec9de": {
          "model_module": "@jupyter-widgets/base",
          "model_name": "LayoutModel",
          "state": {
            "_view_name": "LayoutView",
            "grid_template_rows": null,
            "right": null,
            "justify_content": null,
            "_view_module": "@jupyter-widgets/base",
            "overflow": null,
            "_model_module_version": "1.2.0",
            "_view_count": null,
            "flex_flow": null,
            "width": null,
            "min_width": null,
            "border": null,
            "align_items": null,
            "bottom": null,
            "_model_module": "@jupyter-widgets/base",
            "top": null,
            "grid_column": null,
            "overflow_y": null,
            "overflow_x": null,
            "grid_auto_flow": null,
            "grid_area": null,
            "grid_template_columns": null,
            "flex": null,
            "_model_name": "LayoutModel",
            "justify_items": null,
            "grid_row": null,
            "max_height": null,
            "align_content": null,
            "visibility": null,
            "align_self": null,
            "height": null,
            "min_height": null,
            "padding": null,
            "grid_auto_rows": null,
            "grid_gap": null,
            "max_width": null,
            "order": null,
            "_view_module_version": "1.2.0",
            "grid_template_areas": null,
            "object_position": null,
            "object_fit": null,
            "grid_auto_columns": null,
            "margin": null,
            "display": null,
            "left": null
          }
        }
      }
    },
    "accelerator": "GPU"
  },
  "cells": [
    {
      "cell_type": "markdown",
      "metadata": {
        "id": "view-in-github",
        "colab_type": "text"
      },
      "source": [
        "<a href=\"https://colab.research.google.com/github/juanpablopizarro/duia2021/blob/main/Copy_of_Copia_de_TP1_Modulo3_DUIA_NLP_Pizarro_Casciaro_version2_pipeline.ipynb\" target=\"_parent\"><img src=\"https://colab.research.google.com/assets/colab-badge.svg\" alt=\"Open In Colab\"/></a>"
      ]
    },
    {
      "cell_type": "markdown",
      "metadata": {
        "id": "kkol2mIs_GK9"
      },
      "source": [
        "# Trabajo Práctico 1 - Casciaro / Pizarro\n",
        "\n",
        "...\n"
      ]
    },
    {
      "cell_type": "markdown",
      "metadata": {
        "id": "ni7WJAZYFsx3"
      },
      "source": [
        "# Instalacion de dependencias"
      ]
    },
    {
      "cell_type": "code",
      "metadata": {
        "colab": {
          "base_uri": "https://localhost:8080/"
        },
        "id": "svc3wKjOFxwH",
        "outputId": "e783d7ca-bf14-4594-ab54-6e1da323b1c8"
      },
      "source": [
        "  !pip install symspellpy\n",
        "  !pip install wget\n"
      ],
      "execution_count": null,
      "outputs": [
        {
          "output_type": "stream",
          "text": [
            "Collecting symspellpy\n",
            "  Downloading symspellpy-6.7.0-py3-none-any.whl (2.6 MB)\n",
            "\u001b[K     |████████████████████████████████| 2.6 MB 7.4 MB/s \n",
            "\u001b[?25hRequirement already satisfied: numpy>=1.13.1 in /usr/local/lib/python3.7/dist-packages (from symspellpy) (1.19.5)\n",
            "Installing collected packages: symspellpy\n",
            "Successfully installed symspellpy-6.7.0\n",
            "Collecting wget\n",
            "  Downloading wget-3.2.zip (10 kB)\n",
            "Building wheels for collected packages: wget\n",
            "  Building wheel for wget (setup.py) ... \u001b[?25l\u001b[?25hdone\n",
            "  Created wheel for wget: filename=wget-3.2-py3-none-any.whl size=9673 sha256=f15e7554c8e6d29d8d3ab111e80b74175df34db3d8abdddad440d3260286d493\n",
            "  Stored in directory: /root/.cache/pip/wheels/a1/b6/7c/0e63e34eb06634181c63adacca38b79ff8f35c37e3c13e3c02\n",
            "Successfully built wget\n",
            "Installing collected packages: wget\n",
            "Successfully installed wget-3.2\n"
          ],
          "name": "stdout"
        }
      ]
    },
    {
      "cell_type": "markdown",
      "metadata": {
        "id": "7PjGR4pZ_5fY"
      },
      "source": [
        "# Carga de los datos y creación del dataset\n",
        "\n",
        "Importamos los datos en formato json desde un repositorio público de github y luego importamos pandas para crear y trabajar con el dataset."
      ]
    },
    {
      "cell_type": "code",
      "metadata": {
        "colab": {
          "base_uri": "https://localhost:8080/"
        },
        "id": "6c7hwr4GAFvC",
        "outputId": "cfd153a3-5031-40ef-a7b3-5f5801d296dd"
      },
      "source": [
        "import wget\n",
        "from os import path\n",
        "import pandas as pd\n",
        "from google.colab import drive\n",
        "\n",
        "# montamos google drive\n",
        "drive.mount('/content/gdrive/')\n",
        "\n",
        "# Creamos la carpeta e drive que va a alojar los files con los que vamos a trabajar\n",
        "from os import makedirs\n",
        "datasets_folder = '/content/gdrive/My Drive/Colab Notebooks/DUIA/2021/Machine Learning/NLP-TP3'\n",
        "makedirs(datasets_folder, exist_ok=True)\n",
        "\n",
        "# bajamos el file de comments de reddit desde github\n",
        "dataset = dict()\n",
        "dataset['url'] = 'https://raw.githubusercontent.com/juanpablopizarro/duia2021/main/reddit_comments.json'\n",
        "dataset['extension'] = '.json'\n",
        "dataset['filename'] = path.join(datasets_folder, 'dataset' + dataset['extension']) \n",
        "if not path.exists(dataset['filename']):  # descargar solamente si no existe\n",
        "  wget.download(dataset['url'], dataset['filename'])\n",
        "else:\n",
        "  print('El archivo {} ya existe.'.format(dataset['filename']))\n",
        "\n",
        "# bajamos el file de contractions desde github\n",
        "contractions = dict()\n",
        "contractions['url'] = 'https://raw.githubusercontent.com/juanpablopizarro/duia2021/main/contractions.json'\n",
        "contractions['extension'] = '.json'\n",
        "contractions['filename'] = path.join(datasets_folder, 'contractions' + contractions['extension']) \n",
        "if not path.exists(contractions['filename']):  # descargar solamente si no existe\n",
        "  wget.download(contractions['url'], contractions['filename'])\n",
        "else:\n",
        "  print('El archivo {} ya existe.'.format(contractions['filename']))"
      ],
      "execution_count": null,
      "outputs": [
        {
          "output_type": "stream",
          "text": [
            "Mounted at /content/gdrive/\n",
            "El archivo /content/gdrive/My Drive/Colab Notebooks/DUIA/2021/Machine Learning/NLP-TP3/dataset.json ya existe.\n",
            "El archivo /content/gdrive/My Drive/Colab Notebooks/DUIA/2021/Machine Learning/NLP-TP3/contractions.json ya existe.\n"
          ],
          "name": "stdout"
        }
      ]
    },
    {
      "cell_type": "markdown",
      "metadata": {
        "id": "1F39QGt4HXS8"
      },
      "source": [
        "# Funciones del pipeline\n",
        "En la siguiente celda definimos las funciones que vamos a usar en el pipeline dentro de ellas estan:\n",
        "\n",
        " * eliminacion de mas de un espacio en blanco consecutivos\n",
        " * eliminacion de signos de puntuacion\n",
        " * reemplazo de URL's\n",
        " * simplificacion de puntuacion (por ejemplo reemplazar !!! por !)\n",
        " * normalizacion de contracciones usando una lista que bajamos de internet (wikipedia)\n",
        " * correccion de ortografia\n",
        " * reduccion de exageraciones (por ejemplo hooooola por hola)\n",
        " * lematizacion\n",
        " "
      ]
    },
    {
      "cell_type": "code",
      "metadata": {
        "id": "1QT6UFIzCmnE"
      },
      "source": [
        "from symspellpy.symspellpy import SymSpell, Verbosity\n",
        "import pkg_resources\n",
        "import re, string, json\n",
        "import spacy\n",
        "from tqdm.notebook import tqdm\n",
        "\n",
        "def simplify_punctuation_and_whitespace(sentence_list):\n",
        "    norm_sents = []\n",
        "    print(\"Normalizing whitespaces and punctuation\")\n",
        "    for sentence in tqdm(sentence_list):\n",
        "        sent = _replace_urls(sentence)\n",
        "        sent = _simplify_punctuation(sentence)\n",
        "        sent = _normalize_whitespace(sent)\n",
        "        norm_sents.append(sent)\n",
        "    return norm_sents\n",
        "\n",
        "def _replace_urls(text):\n",
        "    url_regex = r'(https?:\\/\\/(?:www\\.|(?!www))[a-zA-Z0-9][a-zA-Z0-9-]+[a-zA-Z0-9]\\.[^\\s]{2,}|www\\.[a-zA-Z0-9][a-zA-Z0-9-]+[a-zA-Z0-9]\\.[^\\s]{2,}|https?:\\/\\/(?:www\\.|(?!www))[a-zA-Z0-9]+\\.[^\\s]{2,}|www\\.[a-zA-Z0-9]+\\.[^\\s]{2,})'\n",
        "    text = re.sub(url_regex, \"<URL>\", text)\n",
        "    return text\n",
        "\n",
        "def _simplify_punctuation(text):\n",
        "    \"\"\"\n",
        "    This function simplifies doubled or more complex punctuation. The exception is '...'.\n",
        "    \"\"\"\n",
        "    corrected = str(text)\n",
        "    corrected = re.sub(r'([!?,;])\\1+', r'\\1', corrected)\n",
        "    corrected = re.sub(r'\\.{2,}', r'...', corrected)\n",
        "    return corrected\n",
        "\n",
        "def _normalize_whitespace(text):\n",
        "    \"\"\"\n",
        "    This function normalizes whitespaces, removing duplicates.\n",
        "    \"\"\"\n",
        "    corrected = str(text)\n",
        "    corrected = re.sub(r\"//t\",r\"\\t\", corrected)\n",
        "    corrected = re.sub(r\"( )\\1+\",r\"\\1\", corrected)\n",
        "    corrected = re.sub(r\"(\\n)\\1+\",r\"\\1\", corrected)\n",
        "    corrected = re.sub(r\"(\\r)\\1+\",r\"\\1\", corrected)\n",
        "    corrected = re.sub(r\"(\\t)\\1+\",r\"\\1\", corrected)\n",
        "    return corrected.strip(\" \")\n",
        "\n",
        "def normalize_contractions(sentence_list):\n",
        "    contraction_list = json.loads(open(contractions['filename'], 'r').read())\n",
        "    norm_sents = []\n",
        "    print(\"Normalizing contractions\")\n",
        "    for sentence in tqdm(sentence_list):\n",
        "        norm_sents.append(_normalize_contractions_text(sentence, contraction_list))\n",
        "    return norm_sents\n",
        "\n",
        "def _normalize_contractions_text(text, contractions):\n",
        "    \"\"\"\n",
        "    This function normalizes english contractions.\n",
        "    \"\"\"\n",
        "    new_token_list = []\n",
        "    token_list = text.split()\n",
        "    for word_pos in range(len(token_list)):\n",
        "        word = token_list[word_pos]\n",
        "        first_upper = False\n",
        "        if word[0].isupper():\n",
        "            first_upper = True\n",
        "        if word.lower() in contractions:\n",
        "            replacement = contractions[word.lower()]\n",
        "            if first_upper:\n",
        "                replacement = replacement[0].upper()+replacement[1:]\n",
        "            replacement_tokens = replacement.split()\n",
        "            if len(replacement_tokens)>1:\n",
        "                new_token_list.append(replacement_tokens[0])\n",
        "                new_token_list.append(replacement_tokens[1])\n",
        "            else:\n",
        "                new_token_list.append(replacement_tokens[0])\n",
        "        else:\n",
        "            new_token_list.append(word)\n",
        "    sentence = \" \".join(new_token_list).strip(\" \")\n",
        "    return sentence\n",
        "\n",
        "def spell_correction(sentence_list):\n",
        "    max_edit_distance_dictionary= 3\n",
        "    prefix_length = 4\n",
        "    spellchecker = SymSpell(max_edit_distance_dictionary, prefix_length)\n",
        "    dictionary_path = pkg_resources.resource_filename(\n",
        "        \"symspellpy\", \"frequency_dictionary_en_82_765.txt\")\n",
        "    bigram_path = pkg_resources.resource_filename(\n",
        "        \"symspellpy\", \"frequency_bigramdictionary_en_243_342.txt\")\n",
        "    spellchecker.load_dictionary(dictionary_path, term_index=0, count_index=1)\n",
        "    spellchecker.load_bigram_dictionary(dictionary_path, term_index=0, count_index=2)\n",
        "    norm_sents = []\n",
        "    print(\"Spell correcting\")\n",
        "    for sentence in tqdm(sentence_list):\n",
        "        norm_sents.append(_spell_correction_text(sentence, spellchecker))\n",
        "    return norm_sents\n",
        "\n",
        "def _spell_correction_text(text, spellchecker):\n",
        "    \"\"\"\n",
        "    This function does very simple spell correction normalization using pyspellchecker module. It works over a tokenized sentence and only the token representations are changed.\n",
        "    \"\"\"\n",
        "    if len(text) < 1:\n",
        "        return \"\"\n",
        "    #Spell checker config\n",
        "    max_edit_distance_lookup = 2\n",
        "    suggestion_verbosity = Verbosity.TOP # TOP, CLOSEST, ALL\n",
        "    #End of Spell checker config\n",
        "    token_list = text.split()\n",
        "    for word_pos in range(len(token_list)):\n",
        "        word = token_list[word_pos]\n",
        "        if word is None:\n",
        "            token_list[word_pos] = \"\"\n",
        "            continue\n",
        "        if not '\\n' in word and word not in string.punctuation and not is_numeric(word) and not (word.lower() in spellchecker.words.keys()):\n",
        "            suggestions = spellchecker.lookup(word.lower(), suggestion_verbosity, max_edit_distance_lookup)\n",
        "            #Checks first uppercase to conserve the case.\n",
        "            upperfirst = word[0].isupper()\n",
        "            #Checks for correction suggestions.\n",
        "            if len(suggestions) > 0:\n",
        "                correction = suggestions[0].term\n",
        "                replacement = correction\n",
        "            #We call our _reduce_exaggerations function if no suggestion is found. Maybe there are repeated chars.\n",
        "            else:\n",
        "                replacement = _reduce_exaggerations(word)\n",
        "            #Takes the case back to the word.\n",
        "            if upperfirst:\n",
        "                replacement = replacement[0].upper()+replacement[1:]\n",
        "            word = replacement\n",
        "            token_list[word_pos] = word\n",
        "    return \" \".join(token_list).strip()\n",
        "\n",
        "def _reduce_exaggerations(text):\n",
        "    \"\"\"\n",
        "    Auxiliary function to help with exxagerated words.\n",
        "    Examples:\n",
        "        woooooords -> words\n",
        "        yaaaaaaaaaaaaaaay -> yay\n",
        "    \"\"\"\n",
        "    correction = str(text)\n",
        "    #TODO work on complexity reduction.\n",
        "    return re.sub(r'([\\w])\\1+', r'\\1', correction)\n",
        "\n",
        "def is_numeric(text):\n",
        "    for char in text:\n",
        "        if not (char in \"0123456789\" or char in \",%.$\"):\n",
        "            return False\n",
        "    return True\n",
        "\n",
        "def lemmatize(sentence_list):\n",
        "    nlp = spacy.load('en')\n",
        "    new_norm=[]\n",
        "    print(\"Lemmatizing Sentences\")\n",
        "    for sentence in tqdm(sentence_list):\n",
        "        new_norm.append(_lemmatize_text(sentence, nlp).strip())\n",
        "    return new_norm\n",
        "\n",
        "def _lemmatize_text(sentence, nlp):\n",
        "    sent = \"\"\n",
        "    doc = nlp(sentence)\n",
        "    for token in doc:\n",
        "        if '@' in token.text:\n",
        "            sent+=\" @MENTION\"\n",
        "        elif '#' in token.text:\n",
        "            sent+= \" #HASHTAG\"\n",
        "        else:\n",
        "            sent+=\" \"+token.lemma_\n",
        "    return sent\n"
      ],
      "execution_count": null,
      "outputs": []
    },
    {
      "cell_type": "markdown",
      "metadata": {
        "id": "Not_xVuQIoqL"
      },
      "source": [
        "# Pipeline\n",
        "En la siguiente celda definimos el pipeline. El pipelie es la ejecucion de las funciones anteriormente definidas en un orden especifico."
      ]
    },
    {
      "cell_type": "code",
      "metadata": {
        "id": "NZZFbJ7xI1WC"
      },
      "source": [
        "def normalization_pipeline(sentences):\n",
        "    print(\"##############################\")\n",
        "    print(\"Starting Normalization Process\")\n",
        "    sentences = simplify_punctuation_and_whitespace(sentences)\n",
        "    sentences = normalize_contractions(sentences)\n",
        "    sentences = spell_correction(sentences)\n",
        "    sentences = lemmatize(sentences)\n",
        "    print(\"Normalization Process Finished\")\n",
        "    print(\"##############################\")\n",
        "    return sentences"
      ],
      "execution_count": null,
      "outputs": []
    },
    {
      "cell_type": "markdown",
      "metadata": {
        "id": "vuZV3zakJXjM"
      },
      "source": [
        "Ahora ejecutamos el pipeline:"
      ]
    },
    {
      "cell_type": "code",
      "metadata": {
        "colab": {
          "base_uri": "https://localhost:8080/",
          "height": 272
        },
        "id": "J9E2Igi5JanI",
        "outputId": "aadd3f47-d574-4539-c1cc-b1f2ac4808ef"
      },
      "source": [
        "import pandas as pd\n",
        "\n",
        "raw_ds = pd.read_json(dataset['filename'])\n",
        "print('Tamaño del dataset original: {}\\n'.format(len(raw_ds)))\n",
        "raw_ds = raw_ds[raw_ds['body']!='[deleted]']\n",
        "raw_ds = raw_ds[raw_ds['body']!='[removed]']\n",
        "raw_ds = raw_ds[raw_ds['body'].map(len) > 0]\n",
        "print('Tamaño del dataset luego de remocion de comments eliminados: {}\\n'.format(len(raw_ds)))\n",
        "\n",
        "df = raw_ds.filter(items=['body', 'is_hate'])\n",
        "df.head()"
      ],
      "execution_count": null,
      "outputs": [
        {
          "output_type": "stream",
          "text": [
            "Tamaño del dataset original: 18870\n",
            "\n",
            "Tamaño del dataset luego de remocion de comments eliminados: 17500\n",
            "\n"
          ],
          "name": "stdout"
        },
        {
          "output_type": "execute_result",
          "data": {
            "text/html": [
              "<div>\n",
              "<style scoped>\n",
              "    .dataframe tbody tr th:only-of-type {\n",
              "        vertical-align: middle;\n",
              "    }\n",
              "\n",
              "    .dataframe tbody tr th {\n",
              "        vertical-align: top;\n",
              "    }\n",
              "\n",
              "    .dataframe thead th {\n",
              "        text-align: right;\n",
              "    }\n",
              "</style>\n",
              "<table border=\"1\" class=\"dataframe\">\n",
              "  <thead>\n",
              "    <tr style=\"text-align: right;\">\n",
              "      <th></th>\n",
              "      <th>body</th>\n",
              "      <th>is_hate</th>\n",
              "    </tr>\n",
              "  </thead>\n",
              "  <tbody>\n",
              "    <tr>\n",
              "      <th>0</th>\n",
              "      <td>A subsection of retarded Hungarians? Ohh boy. ...</td>\n",
              "      <td>1.0</td>\n",
              "    </tr>\n",
              "    <tr>\n",
              "      <th>1</th>\n",
              "      <td>Hiii. Just got off work. 444 is mainly the typ...</td>\n",
              "      <td>0.0</td>\n",
              "    </tr>\n",
              "    <tr>\n",
              "      <th>2</th>\n",
              "      <td>wow i guess soyboys are the same in every country</td>\n",
              "      <td>0.0</td>\n",
              "    </tr>\n",
              "    <tr>\n",
              "      <th>3</th>\n",
              "      <td>Owen Benjamin's soyboy song goes for every cou...</td>\n",
              "      <td>0.0</td>\n",
              "    </tr>\n",
              "    <tr>\n",
              "      <th>4</th>\n",
              "      <td>wouldn't the defenders or whatever they are as...</td>\n",
              "      <td>1.0</td>\n",
              "    </tr>\n",
              "  </tbody>\n",
              "</table>\n",
              "</div>"
            ],
            "text/plain": [
              "                                                body  is_hate\n",
              "0  A subsection of retarded Hungarians? Ohh boy. ...      1.0\n",
              "1  Hiii. Just got off work. 444 is mainly the typ...      0.0\n",
              "2  wow i guess soyboys are the same in every country      0.0\n",
              "3  Owen Benjamin's soyboy song goes for every cou...      0.0\n",
              "4  wouldn't the defenders or whatever they are as...      1.0"
            ]
          },
          "metadata": {
            "tags": []
          },
          "execution_count": 5
        }
      ]
    },
    {
      "cell_type": "code",
      "metadata": {
        "colab": {
          "base_uri": "https://localhost:8080/",
          "height": 349,
          "referenced_widgets": [
            "c411e95f17a94ddd8024cbcf03a6b9e3",
            "0a6dfaa4f57f40d3b834326e729722fd",
            "7592ec72956d45ea968d466a513bca84",
            "5c8c5faf06dd4cde904664970ddb338d",
            "1b16b8dcf304497892c332b4d560ffce",
            "32df499daa92417fbe3fbad6a814f497",
            "16e383b075d3482b988fd187a6942db0",
            "82e557fa2dbe42f89cfde6018795421b",
            "6c06ce9b17ba48f489c60187230f7a2a",
            "0cdba2c9ff8e4b1a8e31d4b4e7f0ff7f",
            "a10eb026320448a1be25dccfe22039a5",
            "195b2a59e063480190feae503b2cbbf1",
            "0d485537e56446bba201d61e953465c1",
            "9aa28bbdcbd349ff9727d051e161abb7",
            "bd23fa50f4b34f9f89d95502083d7618",
            "bcdb080d5c4a4532b4c979e1715eebe5",
            "6fe51eb7b80b473ebde4e801e67b010e",
            "ebbdbca946fe4d25b98800fbbf7c0afa",
            "5a86cc2a567949ca9a043018625f9b13",
            "fac07e9ae2d2436997dfc41bb5933085",
            "bad517564c9d4ad6a18feb7c6f8ef83d",
            "4e29d027a3e547e4ac8dcea97ed32168",
            "6bb48faa69ae45bcae5d12710afc04b5",
            "e9a7babd4d274856b86ad50f124c74de",
            "6dd862e79a8f4e24bdc112013857b09c",
            "75c18cf07c894171b27e8b165f4cceef",
            "14adfc80ff384c2a8cfdd75f2f405016",
            "2788e31fa8aa4cdc9725622f7be97d46",
            "23b5a57df7b640f7b706aac3f399bf81",
            "5b6c1da457c540bfb5021aabad14a543",
            "98c2af92149d4a8681a7a572abe9a816",
            "fef0de8114e44427a0428d59a12ec9de"
          ]
        },
        "id": "eocvq4BvMnKh",
        "outputId": "68d3175a-0049-432f-d899-2d311f2980a5"
      },
      "source": [
        "normalized = normalization_pipeline(df['body'])"
      ],
      "execution_count": null,
      "outputs": [
        {
          "output_type": "stream",
          "text": [
            "##############################\n",
            "Starting Normalization Process\n",
            "Normalizing whitespaces and punctuation\n"
          ],
          "name": "stdout"
        },
        {
          "output_type": "display_data",
          "data": {
            "application/vnd.jupyter.widget-view+json": {
              "model_id": "c411e95f17a94ddd8024cbcf03a6b9e3",
              "version_minor": 0,
              "version_major": 2
            },
            "text/plain": [
              "HBox(children=(FloatProgress(value=0.0, max=17500.0), HTML(value='')))"
            ]
          },
          "metadata": {
            "tags": []
          }
        },
        {
          "output_type": "stream",
          "text": [
            "\n",
            "Normalizing contractions\n"
          ],
          "name": "stdout"
        },
        {
          "output_type": "display_data",
          "data": {
            "application/vnd.jupyter.widget-view+json": {
              "model_id": "6c06ce9b17ba48f489c60187230f7a2a",
              "version_minor": 0,
              "version_major": 2
            },
            "text/plain": [
              "HBox(children=(FloatProgress(value=0.0, max=17500.0), HTML(value='')))"
            ]
          },
          "metadata": {
            "tags": []
          }
        },
        {
          "output_type": "stream",
          "text": [
            "\n",
            "Spell correcting\n"
          ],
          "name": "stdout"
        },
        {
          "output_type": "display_data",
          "data": {
            "application/vnd.jupyter.widget-view+json": {
              "model_id": "6fe51eb7b80b473ebde4e801e67b010e",
              "version_minor": 0,
              "version_major": 2
            },
            "text/plain": [
              "HBox(children=(FloatProgress(value=0.0, max=17500.0), HTML(value='')))"
            ]
          },
          "metadata": {
            "tags": []
          }
        },
        {
          "output_type": "stream",
          "text": [
            "\n",
            "Lemmatizing Sentences\n"
          ],
          "name": "stdout"
        },
        {
          "output_type": "display_data",
          "data": {
            "application/vnd.jupyter.widget-view+json": {
              "model_id": "6dd862e79a8f4e24bdc112013857b09c",
              "version_minor": 0,
              "version_major": 2
            },
            "text/plain": [
              "HBox(children=(FloatProgress(value=0.0, max=17500.0), HTML(value='')))"
            ]
          },
          "metadata": {
            "tags": []
          }
        },
        {
          "output_type": "stream",
          "text": [
            "\n",
            "Normalization Process Finished\n",
            "##############################\n"
          ],
          "name": "stdout"
        }
      ]
    },
    {
      "cell_type": "code",
      "metadata": {
        "colab": {
          "base_uri": "https://localhost:8080/",
          "height": 35
        },
        "id": "j-XxbrL_qS07",
        "outputId": "3d740c4b-ad21-4081-a9cf-d3af155d0fd6"
      },
      "source": [
        "normalized[3]"
      ],
      "execution_count": null,
      "outputs": [
        {
          "output_type": "execute_result",
          "data": {
            "application/vnd.google.colaboratory.intrinsic+json": {
              "type": "string"
            },
            "text/plain": [
              "'Owen Benjamins cowboy song go for every country and that be why -PRON- be so amazing'"
            ]
          },
          "metadata": {
            "tags": []
          },
          "execution_count": 7
        }
      ]
    },
    {
      "cell_type": "markdown",
      "metadata": {
        "id": "_gWv6F-SN7q3"
      },
      "source": [
        "#Funciones Totalizadores\n",
        "En la siguiente celda vamos a crear funciones que seran utilitarias para el calculo de totalizadores."
      ]
    },
    {
      "cell_type": "code",
      "metadata": {
        "id": "DrXWs6AdN6YA"
      },
      "source": [
        "import re\n",
        "def basic_string_manipulation(text):\n",
        "    text = re.sub(r'[,;:?!-\\(\\)\\[\\].]+',' \\g<0> ', text)\n",
        "    return text\n",
        "\n",
        "def count_num_tokens(text):\n",
        "    tokens = text.split()\n",
        "    return len(tokens)\n",
        "\n",
        "def generate_dict_from_text(text):\n",
        "    tokens = text.split()\n",
        "    word_freq_dic= {}\n",
        "    for token in tokens:\n",
        "        word_freq_dic[token]= word_freq_dic.get(token, 1)+1\n",
        "    return word_freq_dic\n",
        "\n",
        "def num_distinct_tokens(text):\n",
        "    tokens = text.split()\n",
        "    dist_tokens = set()\n",
        "    for token in tokens:\n",
        "        dist_tokens.add(token)\n",
        "    return len(dist_tokens)\n",
        "\n",
        "def common_tokens(text, common_list):\n",
        "    tokens = text.split()\n",
        "    common_token_num = 0\n",
        "    for token in tokens:\n",
        "        if token in common_list:\n",
        "            common_token_num+=1\n",
        "    return common_token_num\n",
        "\n",
        "def get_most_used_tokens(token_dict):\n",
        "    #uses the 20-80 rule, where 20% of the words usually correspond to 80% of the total number of words.\n",
        "    total_num_words = sum(token_dict.values())\n",
        "    most_used = []\n",
        "    total_most_used = 0\n",
        "    word_iterator = iter(sorted(token_dict.items(), key=lambda x: x[1], reverse=True))\n",
        "    while total_most_used < total_num_words*0.8:\n",
        "        word_tuple = next(word_iterator)\n",
        "        most_used.append(word_tuple[0])\n",
        "        total_most_used+=word_tuple[1]\n",
        "    return most_used"
      ],
      "execution_count": null,
      "outputs": []
    },
    {
      "cell_type": "markdown",
      "metadata": {
        "id": "_c5N_warOULX"
      },
      "source": [
        "#Dataframes\n",
        "Vamos a crear dos data frames para poder manipularlos con las funciones de totalizacion"
      ]
    },
    {
      "cell_type": "code",
      "metadata": {
        "colab": {
          "base_uri": "https://localhost:8080/"
        },
        "id": "ErTmUWYaOdr1",
        "outputId": "9c66a0aa-3ab0-4c1f-bc2f-0ac84742e632"
      },
      "source": [
        "import pandas as pd\n",
        "unorm_df = pd.DataFrame(columns=['Text'], data=df.filter(items=['body']).to_numpy())\n",
        "norm_df = pd.DataFrame(columns=['Text'], data=normalized)\n",
        "print('Dataset sizes: \\nUnnormalized: {}\\nNormalized: {}'.format(len(unorm_df),len(norm_df)))"
      ],
      "execution_count": null,
      "outputs": [
        {
          "output_type": "stream",
          "text": [
            "Dataset sizes: \n",
            "Unnormalized: 17500\n",
            "Normalized: 17500\n"
          ],
          "name": "stdout"
        }
      ]
    },
    {
      "cell_type": "markdown",
      "metadata": {
        "id": "7613In-2PoHj"
      },
      "source": [
        ""
      ]
    },
    {
      "cell_type": "code",
      "metadata": {
        "colab": {
          "base_uri": "https://localhost:8080/"
        },
        "id": "hGMOCy08Povv",
        "outputId": "7d326ca5-8f87-4f5d-ab3a-01b5bd3b3866"
      },
      "source": [
        "unorm_df['Preprocessed'] = unorm_df['Text'].apply(lambda x: basic_string_manipulation(x))\n",
        "norm_df['Preprocessed'] = norm_df['Text'].apply(lambda x: basic_string_manipulation(x))\n",
        "distinct_words_unorm= generate_dict_from_text(\" \".join(unorm_df['Preprocessed'].tolist()))\n",
        "distinct_words_norm= generate_dict_from_text(\" \".join(norm_df['Preprocessed'].tolist()))\n",
        "most_used_words_unorm = get_most_used_tokens(distinct_words_unorm)\n",
        "most_used_words_norm = get_most_used_tokens(distinct_words_norm)\n",
        "print(\"Distinct words in unnormalized: {} - 80% of the text correspond to {} distinct words. \\nDistinct words in normalized: {} - 80% of the text correspond to {} distinct words.\\n\".format(len(distinct_words_unorm),len(most_used_words_unorm),len(distinct_words_norm),len(most_used_words_norm)))\n",
        "unorm_df['Size_in_Chars']=unorm_df['Text'].apply(lambda x: len(x))\n",
        "norm_df['Size_in_Chars']=norm_df['Text'].apply(lambda x: len(x))\n",
        "unorm_df['Size_in_Tokens']=unorm_df['Preprocessed'].apply(lambda x: count_num_tokens(x))\n",
        "norm_df['Size_in_Tokens']=norm_df['Preprocessed'].apply(lambda x: count_num_tokens(x))\n",
        "unorm_df['Num_distinct_Tokens']=unorm_df['Preprocessed'].apply(lambda x: num_distinct_tokens(x))\n",
        "norm_df['Num_distinct_Tokens']=norm_df['Preprocessed'].apply(lambda x: num_distinct_tokens(x))\n",
        "unorm_df['Common_tokens']=unorm_df['Preprocessed'].apply(lambda x: common_tokens(x, most_used_words_unorm))\n",
        "norm_df['Common_tokens']=norm_df['Preprocessed'].apply(lambda x: common_tokens(x, most_used_words_norm))\n",
        "unorm_df['Uncommon_tokens']=unorm_df['Size_in_Tokens']-unorm_df['Common_tokens']\n",
        "norm_df['Uncommon_tokens']=norm_df['Size_in_Tokens']-norm_df['Common_tokens']"
      ],
      "execution_count": null,
      "outputs": [
        {
          "output_type": "stream",
          "text": [
            "Distinct words in unnormalized: 46222 - 80% of the text correspond to 1859 distinct words. \n",
            "Distinct words in normalized: 31281 - 80% of the text correspond to 961 distinct words.\n",
            "\n"
          ],
          "name": "stdout"
        }
      ]
    },
    {
      "cell_type": "markdown",
      "metadata": {
        "id": "DwWH9tCWPzbh"
      },
      "source": [
        ""
      ]
    },
    {
      "cell_type": "code",
      "metadata": {
        "colab": {
          "base_uri": "https://localhost:8080/",
          "height": 1000
        },
        "id": "jQjLTJixP0FM",
        "outputId": "68cedefd-5099-45c4-d727-89cdbb9b441c"
      },
      "source": [
        "import warnings\n",
        "warnings.filterwarnings(\"ignore\")\n",
        "\n",
        "from matplotlib import pyplot as plt\n",
        "import seaborn as sns\n",
        "%matplotlib inline\n",
        "#Size in Characters\n",
        "sns.distplot(unorm_df['Size_in_Chars'], label='Unnormalized')\n",
        "sns.distplot(norm_df['Size_in_Chars'], label='Normalized')\n",
        "plt.legend(loc='upper right')\n",
        "plt.title('Size in Characters per Sentence')\n",
        "plt.xlabel('Size')\n",
        "plt.ylabel('Frequency')\n",
        "plt.savefig('size_chars.png')\n",
        "plt.show()\n",
        "#Distinct Tokens\n",
        "sns.distplot(unorm_df['Num_distinct_Tokens'], label='Unnormalized')\n",
        "sns.distplot(norm_df['Num_distinct_Tokens'], label='Normalized')\n",
        "plt.legend(loc='upper right')\n",
        "plt.title('Number of Distinct Tokens per Sentence')\n",
        "plt.xlabel('Tokens')\n",
        "plt.ylabel('Frequency')\n",
        "plt.savefig('num_tokens.png')\n",
        "plt.show()\n",
        "#Number of common Tokens in Sentence\n",
        "sns.distplot(unorm_df['Common_tokens'], label='Unnormalized')\n",
        "sns.distplot(norm_df['Common_tokens'], label='Normalized')\n",
        "plt.legend(loc='upper right')\n",
        "plt.title('Number of Common Tokens in Sentence')\n",
        "plt.xlabel('Number of Tokens')\n",
        "plt.ylabel('Frequency')\n",
        "plt.savefig('common_tokens.png')\n",
        "plt.show()\n",
        "#Total Number of Distinct Tokens\n",
        "sns.barplot(x=[\"Unnormalized\",\"Normalized\"],y=[len(distinct_words_unorm), len(distinct_words_norm)], palette=\"deep\")\n",
        "plt.title('Total Distinct Tokens')\n",
        "plt.xlabel('File')\n",
        "plt.ylabel('Number of Tokens')\n",
        "plt.savefig('total_distinct_tokens.png')\n",
        "plt.show()\n",
        "#Total Number of Most Used Tokens (80%)\n",
        "sns.barplot(x=[\"Unnormalized\",\"Normalized\"],y=[len(most_used_words_unorm), len(most_used_words_norm)], palette=\"deep\")\n",
        "plt.title('Number of most used (80%) Tokens')\n",
        "plt.xlabel('File')\n",
        "plt.ylabel('Number of Tokens')\n",
        "plt.savefig('most_used_tokens.png')\n",
        "plt.show()\n"
      ],
      "execution_count": null,
      "outputs": [
        {
          "output_type": "display_data",
          "data": {
            "image/png": "[encoded data removed]",
            "text/plain": [
              "<Figure size 432x288 with 1 Axes>"
            ]
          },
          "metadata": {
            "tags": [],
            "needs_background": "light"
          }
        },
        {
          "output_type": "display_data",
          "data": {
            "image/png": "[encoded data removed]",
            "text/plain": [
              "<Figure size 432x288 with 1 Axes>"
            ]
          },
          "metadata": {
            "tags": [],
            "needs_background": "light"
          }
        },
        {
          "output_type": "display_data",
          "data": {
            "image/png": "[encoded data removed]",
            "text/plain": [
              "<Figure size 432x288 with 1 Axes>"
            ]
          },
          "metadata": {
            "tags": [],
            "needs_background": "light"
          }
        },
        {
          "output_type": "display_data",
          "data": {
            "image/png": "[encoded data removed]",
            "text/plain": [
              "<Figure size 432x288 with 1 Axes>"
            ]
          },
          "metadata": {
            "tags": [],
            "needs_background": "light"
          }
        },
        {
          "output_type": "display_data",
          "data": {
            "image/png": "[encoded data removed]",
            "text/plain": [
              "<Figure size 432x288 with 1 Axes>"
            ]
          },
          "metadata": {
            "tags": [],
            "needs_background": "light"
          }
        }
      ]
    },
    {
      "cell_type": "code",
      "metadata": {
        "id": "s0lRYHU0aOMW",
        "colab": {
          "base_uri": "https://localhost:8080/"
        },
        "outputId": "459e6f4b-c098-4545-96d4-7cb619fbf711"
      },
      "source": [
        "print(unorm_df.head())\n",
        "print(norm_df.head())\n",
        "print(df.head())\n"
      ],
      "execution_count": null,
      "outputs": [
        {
          "output_type": "stream",
          "text": [
            "                                                Text  ... Uncommon_tokens\n",
            "0  A subsection of retarded Hungarians? Ohh boy. ...  ...               9\n",
            "1  Hiii. Just got off work. 444 is mainly the typ...  ...              13\n",
            "2  wow i guess soyboys are the same in every country  ...               2\n",
            "3  Owen Benjamin's soyboy song goes for every cou...  ...               4\n",
            "4  wouldn't the defenders or whatever they are as...  ...               9\n",
            "\n",
            "[5 rows x 7 columns]\n",
            "                                                Text  ... Uncommon_tokens\n",
            "0  a subsection of retarded Hungarians Och boy br...  ...               9\n",
            "1  Iii just get off work 444 be mainly the type g...  ...              10\n",
            "2    wow i guess cowboy be the same in every country  ...               1\n",
            "3  Owen Benjamins cowboy song go for every countr...  ...               5\n",
            "4  would not the defender or whatever -PRON- be a...  ...              12\n",
            "\n",
            "[5 rows x 7 columns]\n",
            "                                                body  is_hate\n",
            "0  A subsection of retarded Hungarians? Ohh boy. ...      1.0\n",
            "1  Hiii. Just got off work. 444 is mainly the typ...      0.0\n",
            "2  wow i guess soyboys are the same in every country      0.0\n",
            "3  Owen Benjamin's soyboy song goes for every cou...      0.0\n",
            "4  wouldn't the defenders or whatever they are as...      1.0\n"
          ],
          "name": "stdout"
        }
      ]
    }
  ]
}